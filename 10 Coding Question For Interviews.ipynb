{
 "cells": [
  {
   "cell_type": "code",
   "execution_count": 18,
   "id": "fed0076d",
   "metadata": {},
   "outputs": [],
   "source": [
    "class arpitSingh:\n",
    "     def fun(s1, s2):\n",
    "            if len(s1)!=len(s2):\n",
    "                return False\n",
    "            s1=s1.lower()\n",
    "            s2=s2.lower()\n",
    "            d1 = {}\n",
    "            d2 = {}\n",
    "            for ch in s1:\n",
    "                if ch in d1:\n",
    "                    d1[ch]+=1\n",
    "                else:\n",
    "                    d1[ch]=1\n",
    "            for ch in s2:\n",
    "                if ch in d2:\n",
    "                    d2[ch]+=1\n",
    "                else:\n",
    "                    d2[ch]=1\n",
    "            for key in d1:\n",
    "                if key not in d2 or d1[key]!=d2[key]:\n",
    "                    return False\n",
    "            return True\n",
    "        "
   ]
  },
  {
   "cell_type": "code",
   "execution_count": 19,
   "id": "3955d6ca",
   "metadata": {},
   "outputs": [
    {
     "name": "stdout",
     "output_type": "stream",
     "text": [
      "True\n"
     ]
    }
   ],
   "source": [
    "if __name__==\"__main__\":\n",
    "    s1=\"listen\"\n",
    "    s2=\"silent\"\n",
    "    res=arpitSingh.fun(s1,s2)\n",
    "    print(res)\n",
    "    "
   ]
  },
  {
   "cell_type": "code",
   "execution_count": 23,
   "id": "f33490fa",
   "metadata": {},
   "outputs": [],
   "source": [
    "class rajaSngh:\n",
    "    def fun2(arr, target):\n",
    "        for i in range(len(arr)):\n",
    "            if arr[i]==target:\n",
    "                start=i\n",
    "                while i+1<len(arr) and arr[i+1] ==target:\n",
    "                    i += 1\n",
    "                return [start, i]\n",
    "        return [-1,-1]"
   ]
  },
  {
   "cell_type": "code",
   "execution_count": 24,
   "id": "ab54efc3",
   "metadata": {},
   "outputs": [
    {
     "name": "stdout",
     "output_type": "stream",
     "text": [
      "[-1, -1]\n"
     ]
    }
   ],
   "source": [
    "arr=[1,2,3,4,5,5,5,5,5,5,5,5,5,6,7,8,10]\n",
    "res = rajaSngh.fun2(arr,11)\n",
    "print(res)"
   ]
  },
  {
   "cell_type": "markdown",
   "id": "b9114520",
   "metadata": {},
   "source": [
    "#  BinarySearch"
   ]
  },
  {
   "cell_type": "code",
   "execution_count": 1,
   "id": "c0de6abf",
   "metadata": {},
   "outputs": [],
   "source": [
    "def find_start(arr, target):\n",
    "    if arr[0] == target:\n",
    "        return 0\n",
    "    left, right = 0, len(arr)-1\n",
    "    while left<=right:\n",
    "        mid = (left+right)//2\n",
    "        if arr[mid] == target and arr[mid-1]<target:\n",
    "            return mid\n",
    "        elif arr[mid] < target:\n",
    "            left = mid+1\n",
    "        else:\n",
    "            right = mid-1\n",
    "            \n",
    "    return -1"
   ]
  },
  {
   "cell_type": "code",
   "execution_count": 4,
   "id": "cc58c988",
   "metadata": {},
   "outputs": [
    {
     "name": "stdout",
     "output_type": "stream",
     "text": [
      "0\n"
     ]
    }
   ],
   "source": [
    "arr=[1,2,3,4,5,6,7,8,10,11,12]\n",
    "print(find_start(arr,1))"
   ]
  },
  {
   "cell_type": "markdown",
   "id": "72b6b460",
   "metadata": {},
   "source": [
    "# Given an array of integers arr and an integer k, find the kth largest element(1<=k<=|arr|)"
   ]
  },
  {
   "cell_type": "markdown",
   "id": "ed237414",
   "metadata": {},
   "source": [
    "input:\n",
    "arr = [4,2,9,7,5,6,7,1,3]\n",
    "k = 4\n",
    "output: 6\n",
    "explanation:\n",
    "1st largest element is 9\n",
    "2nd largest element is 7\n",
    "3rd largest element is 7\n",
    "4th largest element is 6"
   ]
  },
  {
   "cell_type": "code",
   "execution_count": 8,
   "id": "eaf53074",
   "metadata": {},
   "outputs": [],
   "source": [
    "class arptK:\n",
    "    def fun3(arr, k):\n",
    "        for i in range(k-1):       # k-1 times\n",
    "            arr.remove(max(arr))   # n times to remove and n times to find max\n",
    "        return max(arr)            # n times to find max\n",
    "\n",
    "\n",
    "# T(n, k) = (k-1)*2n+n = 2kn - n = O(kn)"
   ]
  },
  {
   "cell_type": "code",
   "execution_count": 13,
   "id": "f228da25",
   "metadata": {},
   "outputs": [
    {
     "name": "stdout",
     "output_type": "stream",
     "text": [
      "7\n"
     ]
    }
   ],
   "source": [
    "arr = [4,2,9,7,5,6,7,1,3,10,20,25,26,27,28,29,30,32,33,34,35]\n",
    "k = 15\n",
    "res = arptK.fun3(arr, k)\n",
    "print(res)"
   ]
  },
  {
   "cell_type": "code",
   "execution_count": null,
   "id": "333510e0",
   "metadata": {},
   "outputs": [],
   "source": [
    "def fun1(num):\n",
    "    res1 = int(num**1/2)\n",
    "    return res1*res1 == num\n",
    "def fun2(num):\n",
    "    res2 = int(num**1/3)\n",
    "    return res2*res2*res2 == num\n",
    "def fun(N):\n",
    "    count = 0\n",
    "    for N in arr:\n",
    "        for i in range(1,N+1):\n",
    "            if fun1(i)==True:\n",
    "                count+=1\n",
    "            elif fun2(i)==True:\n",
    "                count+=1\n",
    "    return count\n",
    "T= int(input())\n",
    "arr = []\n",
    "for _ in range(T):\n",
    "    arr.append(int(input()))\n",
    "print(fun(arr))\n",
    "        "
   ]
  },
  {
   "cell_type": "code",
   "execution_count": null,
   "id": "6d7934a5",
   "metadata": {},
   "outputs": [],
   "source": []
  }
 ],
 "metadata": {
  "kernelspec": {
   "display_name": "Python 3 (ipykernel)",
   "language": "python",
   "name": "python3"
  },
  "language_info": {
   "codemirror_mode": {
    "name": "ipython",
    "version": 3
   },
   "file_extension": ".py",
   "mimetype": "text/x-python",
   "name": "python",
   "nbconvert_exporter": "python",
   "pygments_lexer": "ipython3",
   "version": "3.9.7"
  }
 },
 "nbformat": 4,
 "nbformat_minor": 5
}
